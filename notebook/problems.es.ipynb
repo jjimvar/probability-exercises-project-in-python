{
 "cells": [
  {
   "cell_type": "code",
   "execution_count": 2,
   "id": "033f2363",
   "metadata": {},
   "outputs": [],
   "source": [
    "import numpy as np"
   ]
  },
  {
   "cell_type": "markdown",
   "id": "a41f3622",
   "metadata": {},
   "source": [
    "# Ejercicios de probabilidad"
   ]
  },
  {
   "cell_type": "markdown",
   "id": "a6bdbd89",
   "metadata": {},
   "source": [
    "## Ejercicio 1 \n",
    "\n",
    "Dos dados se lanzan una vez y se observa el total obtenido. Usa una simulación para encontrar la probabilidad estimada de que la puntuación sea mayor a 7 o un número par. Una simulación es una repetición del mismo experimento multiples veces para observar su comportamiento:\n",
    "\n",
    "- Ejecuta el experimento 1000 veces (lanza 2 dados 1000 veces, y suma el número de ambos dados).\n",
    "- Lleva una cuenta de los números y las veces que la suma fue mayor a 7 o un número par.\n",
    "- Divide el número del paso 2 entre el número de iteraciones(1000)."
   ]
  },
  {
   "cell_type": "code",
   "execution_count": 3,
   "id": "8939d892",
   "metadata": {},
   "outputs": [],
   "source": [
    "#Agregamos los resultados de las dos tiradas en una misma variable\n",
    "result=np.random.randint(2,12, size=1000)"
   ]
  },
  {
   "cell_type": "code",
   "execution_count": 4,
   "id": "bb073857",
   "metadata": {},
   "outputs": [
    {
     "data": {
      "text/plain": [
       "array([ 6,  4,  4, 10,  7,  8,  9,  4,  9,  3,  5, 11,  9,  7, 10,  8,  2,\n",
       "       11,  3,  3,  7,  2,  6,  8,  3,  4,  5,  9,  7,  8, 11,  6,  5,  2,\n",
       "       11,  3,  5,  5,  9,  6,  9, 10, 11, 10,  3,  2,  8,  8, 10,  2,  8,\n",
       "        6,  3, 10,  6,  2,  7, 11,  3,  4,  7,  7,  2,  6,  2, 10,  2,  9,\n",
       "       11,  6,  3,  5,  5,  5,  6,  4,  3,  5,  2,  5,  3,  7,  4,  9,  8,\n",
       "        4,  2,  6,  3,  3,  4,  8,  9, 10,  8,  9,  8,  4,  8,  5,  5,  2,\n",
       "        3,  6,  2, 10, 10, 11, 11,  4,  7,  4,  6, 11,  3,  9, 11,  5,  3,\n",
       "        4,  4,  6,  2,  5,  5,  4,  9, 10,  5, 10,  2,  3,  4, 10,  8,  4,\n",
       "        9,  5, 11,  7,  5,  2, 11,  7,  6,  7,  6,  7, 10,  9,  8,  8,  7,\n",
       "       10,  4,  6,  2,  2,  6,  9,  9,  2,  6,  8,  7,  7,  4,  5,  5,  9,\n",
       "        7,  8,  9, 10, 10,  6,  2,  9,  5,  3, 11,  7, 11,  4, 11,  9, 10,\n",
       "        5,  6,  2,  3,  6,  8,  3,  5,  4,  8, 10,  2,  2,  2,  9, 10,  2,\n",
       "        5,  7,  3,  2,  8,  9,  3,  9, 10, 10,  9,  2,  7,  9,  2, 11, 10,\n",
       "        9,  4,  7,  7,  5, 11, 11, 10, 10,  9,  5,  4,  4,  2,  7,  6,  9,\n",
       "       10, 11,  3,  6,  4,  9,  3,  5,  4,  9, 10,  9,  7,  3,  8, 11,  8,\n",
       "       11,  3,  6, 10,  4,  4, 10,  4,  6,  3,  2,  5,  8,  5,  6,  8,  9,\n",
       "       10,  9, 10,  9,  3,  3,  2,  4, 11,  2,  2,  4,  4,  4,  3,  8, 11,\n",
       "        9,  8,  6,  7,  5,  2,  5,  3,  4,  8,  4,  8,  4,  7,  8,  9, 11,\n",
       "       10,  7,  2,  6,  4,  3, 11,  4,  6,  9,  4,  6,  2,  7,  5, 10,  8,\n",
       "        3, 10,  3, 10,  4,  4,  5,  9,  9,  9,  6, 11,  6,  4,  6,  7,  4,\n",
       "        9,  4,  6, 11,  6,  2,  7,  2,  8,  9,  8, 10,  4, 10, 11,  8, 10,\n",
       "        4,  3, 10, 11,  6, 10,  3,  8,  7,  8,  5, 11,  8,  2, 11,  4,  2,\n",
       "        6,  7, 10,  6,  4, 10, 10, 10,  7,  7,  4,  7,  4,  6,  6,  3,  9,\n",
       "        6,  9, 10,  5, 11,  3,  9, 10,  7, 11,  3,  9,  6,  3,  7,  5, 10,\n",
       "        4,  5,  3,  3,  7,  7, 10, 11,  5,  5,  5, 11,  5,  3,  7,  2,  2,\n",
       "       10,  8, 10,  9,  6, 11,  4,  4,  8,  4,  4,  8, 11,  4,  2, 11,  5,\n",
       "       10,  9, 10,  7,  7,  8,  5,  9, 11,  3,  4,  3, 11,  8,  7,  9, 11,\n",
       "        8,  4,  2,  8,  7,  3,  9,  6,  2,  3,  4,  4,  8,  9,  2,  4,  4,\n",
       "       11,  6,  8,  4,  3,  4, 11,  7,  8, 11,  7,  9, 10,  6,  3,  6,  3,\n",
       "        6, 10,  7,  2, 10,  2,  7,  7,  2,  6,  5,  8,  2,  6,  5,  7,  7,\n",
       "        9,  6,  8,  3,  3,  6, 11,  6,  2, 10,  9,  3,  8,  3,  9,  2, 11,\n",
       "       11,  9,  8, 11,  2, 11,  7, 11,  4,  9,  7,  6, 10,  2,  2,  8,  8,\n",
       "        5,  3, 10,  6, 11,  5,  7,  9,  3,  9, 10,  6, 10,  2,  7, 11,  8,\n",
       "        9,  6,  3,  7,  4,  8,  6,  3,  3,  8, 10,  6,  3, 10,  8,  3,  7,\n",
       "        4,  5,  7,  5,  7,  7,  6,  2,  9,  9,  5,  7,  2,  2, 10, 10, 11,\n",
       "        3,  6,  2,  2,  3, 11,  7,  7, 10,  2,  6,  7,  4,  6, 10,  3, 10,\n",
       "        8, 11,  5,  8, 10,  7, 10, 10,  8,  4,  5,  3,  2,  4,  9, 11,  3,\n",
       "       11,  3,  8,  7, 11,  7,  6,  7, 10, 10, 10,  9,  8,  8,  8,  7, 11,\n",
       "        3,  2,  7,  4,  4,  9,  6,  8,  9,  8,  8,  5,  7,  4,  8,  9,  7,\n",
       "        7,  2,  3,  7, 10,  2,  5, 11,  4,  8,  4, 11,  4,  5,  6,  2,  6,\n",
       "        4, 10, 11, 11, 10, 10,  5,  6,  4,  6,  7,  9,  3, 10,  5, 11,  3,\n",
       "        5, 10, 11,  2,  3,  7,  5,  8,  2,  9,  5,  2,  4,  5,  7,  2,  9,\n",
       "        8,  8,  3, 11,  5,  5,  4, 11, 11,  9,  2,  5, 11, 10,  3,  5,  3,\n",
       "        4,  7, 11, 11,  8,  7,  8,  2, 11,  3,  4,  2, 10,  7,  3,  8,  4,\n",
       "        3,  7,  4,  3,  8,  9, 10, 11,  7,  9,  9,  6,  7,  2,  2,  7, 11,\n",
       "       10,  2, 10,  9, 11, 11,  8,  5,  7,  7,  9,  5,  9,  8,  9,  4,  8,\n",
       "        2, 10,  8,  7,  9,  4,  6,  5,  8,  9,  6,  4, 11,  2,  9,  4,  9,\n",
       "        9,  4,  8,  4, 10, 10,  7,  2,  9,  7,  8,  4, 11,  9,  2,  6, 10,\n",
       "       11,  5, 11,  3,  9, 11,  9,  5, 11, 10,  5,  7,  9,  7,  5, 11,  4,\n",
       "        5,  4,  3,  9,  8,  6,  3, 10, 11,  6,  3,  3,  9,  5, 11, 11,  7,\n",
       "        7,  4,  5,  9,  8,  6,  5, 11,  9,  2,  8,  7,  4, 10,  9,  6, 10,\n",
       "        7,  9,  6,  5,  8,  5,  2,  6, 10,  2,  4,  2,  7,  2,  4,  8,  2,\n",
       "        3,  2,  3,  9,  3,  7,  2,  4,  4,  8,  7,  8, 10,  8,  4,  9, 11,\n",
       "        4,  9,  8,  7,  7,  2,  3, 11,  2,  3,  8, 10,  9,  2,  9,  8,  7,\n",
       "       10,  7,  5,  5, 10,  4,  8,  5,  4,  9,  4,  3,  7,  5,  4,  3,  8,\n",
       "        4,  7,  8,  6,  9,  6,  3, 11,  3,  9,  6,  4,  5,  5, 10, 10,  6,\n",
       "        7, 11,  8, 10,  3,  7, 10,  7,  3, 10,  3,  9,  7,  8,  6,  5,  3,\n",
       "        6, 11, 11, 11, 11,  8,  7,  2,  9,  4, 10,  4,  7,  4,  8, 10, 10,\n",
       "       11,  3,  7,  3,  7, 10, 10,  2,  4,  6,  5,  2, 11,  6],\n",
       "      dtype=int32)"
      ]
     },
     "execution_count": 4,
     "metadata": {},
     "output_type": "execute_result"
    }
   ],
   "source": [
    "result"
   ]
  },
  {
   "cell_type": "code",
   "execution_count": 5,
   "id": "9b2a01d1",
   "metadata": {},
   "outputs": [
    {
     "name": "stdout",
     "output_type": "stream",
     "text": [
      "La suma de los dados ha sido 703 veces mayor a 7 o par\n",
      "------------------------------------------------------\n",
      "Esto supone un 70.3 % del total de tiradas\n"
     ]
    }
   ],
   "source": [
    "#Cuenta veces mayor a 7 o par\n",
    "cuenta=sum(1 for lanza in result if lanza>7 or lanza%2==0)\n",
    "\n",
    "print(f\"La suma de los dados ha sido {cuenta} veces mayor a 7 o par\")\n",
    "print(\"-\"*len(f\"La suma de los dados ha sido {cuenta} veces mayor a 7 o par\"))\n",
    "print(f\"Esto supone un {round((cuenta/1000)*100,2)} % del total de tiradas\")"
   ]
  },
  {
   "cell_type": "markdown",
   "id": "55732bca",
   "metadata": {},
   "source": [
    "## Ejercicio 2\n",
    "\n",
    "Una caja contiene 10 bolas blancas, 20 bolas rojas y 30 bolas verdes. Si tomamos 5 bolas de la caja reemplazándolas (tomando una bola, anotando el color y luego regresandola a la caja). Queremos saber la probabilidad de:\n",
    "\n",
    "1. Tomar 3 blancas y 2 rojas.\n",
    "2. Tomar todas del mismo color.\n",
    "\n",
    "Ejecuta el experimento 1000 veces y calcula las probabilidades que mencionadas."
   ]
  },
  {
   "cell_type": "code",
   "execution_count": null,
   "id": "bba8a689",
   "metadata": {},
   "outputs": [],
   "source": [
    "#Construimos la caja\n",
    "caja=[\"Blanco\"]*10 + [\"Rojo\"]*20 + [\"Verde\"]*30"
   ]
  },
  {
   "cell_type": "code",
   "execution_count": 76,
   "id": "273a57f1",
   "metadata": {},
   "outputs": [
    {
     "name": "stdout",
     "output_type": "stream",
     "text": [
      "Tras 1000 simulaciones, la proababilidad de obtener 3 bolas blancas y dos rojas es de un 1.1%\n",
      "---------------------------------------------------------------------------------------------\n",
      "Tras 1000 simulaciones, la proababilidad de escoger todas las bolas del mismo color es de un 3.1%\n"
     ]
    }
   ],
   "source": [
    "#Semilla para mismos datos aleatorios\n",
    "np.random.seed(0)\n",
    "\n",
    "def probabilidades(simulaciones):\n",
    "    ## 3 blancas y 2 rojas\n",
    "    cond1=0\n",
    "    cond2=0\n",
    "\n",
    "    for i in range(simulaciones):\n",
    "        #Lista para almacenar colores aleatorios\n",
    "        colores=[]\n",
    "\n",
    "        # Cogemos 5 bolas\n",
    "        for i in range(5):\n",
    "            colores.append(caja[np.random.randint(0,59)])\n",
    "\n",
    "        # Filtramos a través de un array\n",
    "        colores = np.array(colores)\n",
    "\n",
    "        ## Suma de bolas de cada color\n",
    "        blanco=sum(colores==\"Blanco\")\n",
    "        rojo=sum(colores==\"Rojo\")\n",
    "        verde=sum(colores==\"Verde\")\n",
    "        \n",
    "        # 3 blancas y 2 rojas\n",
    "        if (blanco==3) and (rojo==2):\n",
    "            cond1+=1\n",
    "\n",
    "        # todas del mismo color\n",
    "        if (blanco==5) or (rojo==5) or (verde==5):\n",
    "            cond2+=1\n",
    "    \n",
    "    return [cond1/simulaciones, cond2/simulaciones]\n",
    "\n",
    "n=1000\n",
    "print(f\"Tras {n} simulaciones, la proababilidad de obtener 3 bolas blancas y dos rojas es de un {round(probabilidades(n)[0]*100, 2)}%\")\n",
    "print(\"-\"*len(f\"Tras {n} simulaciones, la proababilidad de obtener 3 bolas blancas y dos rojas es de un {round(probabilidades(n)[0]*100, 2)}%\"))\n",
    "print(f\"Tras {n} simulaciones, la proababilidad de escoger todas las bolas del mismo color es de un {round(probabilidades(n)[1]*100, 2)}%\")"
   ]
  }
 ],
 "metadata": {
  "kernelspec": {
   "display_name": "Python 3",
   "language": "python",
   "name": "python3"
  },
  "language_info": {
   "codemirror_mode": {
    "name": "ipython",
    "version": 3
   },
   "file_extension": ".py",
   "mimetype": "text/x-python",
   "name": "python",
   "nbconvert_exporter": "python",
   "pygments_lexer": "ipython3",
   "version": "3.13.5"
  }
 },
 "nbformat": 4,
 "nbformat_minor": 5
}
