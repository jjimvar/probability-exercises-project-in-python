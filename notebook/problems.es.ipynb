{
 "cells": [
  {
   "cell_type": "code",
   "execution_count": 1,
   "id": "033f2363",
   "metadata": {},
   "outputs": [],
   "source": [
    "import numpy as np"
   ]
  },
  {
   "cell_type": "markdown",
   "id": "a41f3622",
   "metadata": {},
   "source": [
    "# Ejercicios de probabilidad"
   ]
  },
  {
   "cell_type": "markdown",
   "id": "a6bdbd89",
   "metadata": {},
   "source": [
    "## Ejercicio 1 \n",
    "\n",
    "Dos dados se lanzan una vez y se observa el total obtenido. Usa una simulación para encontrar la probabilidad estimada de que la puntuación sea mayor a 7 o un número par. Una simulación es una repetición del mismo experimento multiples veces para observar su comportamiento:\n",
    "\n",
    "- Ejecuta el experimento 1000 veces (lanza 2 dados 1000 veces, y suma el número de ambos dados).\n",
    "- Lleva una cuenta de los números y las veces que la suma fue mayor a 7 o un número par.\n",
    "- Divide el número del paso 2 entre el número de iteraciones(1000)."
   ]
  },
  {
   "cell_type": "code",
   "execution_count": null,
   "id": "8939d892",
   "metadata": {},
   "outputs": [],
   "source": [
    "#Lanzamos 2 dados 1000 veces\n",
    "dado1=np.random.choice([1,2,3,4,5,6], size=1000)\n",
    "dado2=np.random.choice([1,2,3,4,5,6], size=1000)\n",
    "result=dado1+dado2"
   ]
  },
  {
   "cell_type": "code",
   "execution_count": 16,
   "id": "9b2a01d1",
   "metadata": {},
   "outputs": [
    {
     "name": "stdout",
     "output_type": "stream",
     "text": [
      "La suma de los dados ha sido 634 veces mayor a 7 o par\n",
      "------------------------------------------------------\n",
      "Esto supone un 63.4 % del total de tiradas\n"
     ]
    }
   ],
   "source": [
    "#Cuenta veces mayor a 7 o par\n",
    "cuenta=0\n",
    "\n",
    "for lanza in result:\n",
    "    if lanza>7 or lanza%2==0:\n",
    "        cuenta+=1\n",
    "\n",
    "print(f\"La suma de los dados ha sido {cuenta} veces mayor a 7 o par\")\n",
    "print(\"-\"*len(f\"La suma de los dados ha sido {cuenta} veces mayor a 7 o par\"))\n",
    "print(f\"Esto supone un {round((cuenta/1000)*100,2)} % del total de tiradas\")"
   ]
  },
  {
   "cell_type": "markdown",
   "id": "55732bca",
   "metadata": {},
   "source": [
    "## Ejercicio 2\n",
    "\n",
    "Una caja contiene 10 bolas blancas, 20 bolas rojas y 30 bolas verdes. Si tomamos 5 bolas de la caja reemplazándolas (tomando una bola, anotando el color y luego regresandola a la caja). Queremos saber la probabilidad de:\n",
    "\n",
    "1. Tomar 3 blancas y 2 rojas.\n",
    "2. Tomar todas del mismo color.\n",
    "\n",
    "Ejecuta el experimento 1000 veces y calcula las probabilidades que mencionadas."
   ]
  },
  {
   "cell_type": "code",
   "execution_count": null,
   "id": "bba8a689",
   "metadata": {},
   "outputs": [],
   "source": [
    "#Construimos la caja\n",
    "caja=[\"Blanco\"]*10 + [\"Rojo\"]*20 + [\"Verde\"]*30\n",
    "\n"
   ]
  },
  {
   "cell_type": "code",
   "execution_count": 76,
   "id": "273a57f1",
   "metadata": {},
   "outputs": [
    {
     "name": "stdout",
     "output_type": "stream",
     "text": [
      "Tras 1000 simulaciones, la proababilidad de obtener 3 bolas blancas y dos rojas es de un 1.1%\n",
      "---------------------------------------------------------------------------------------------\n",
      "Tras 1000 simulaciones, la proababilidad de escoger todas las bolas del mismo color es de un 3.1%\n"
     ]
    }
   ],
   "source": [
    "#Semilla para mismos datos aleatorios\n",
    "np.random.seed(0)\n",
    "\n",
    "def probabilidades(simulaciones):\n",
    "    ## 3 blancas y 2 rojas\n",
    "    cond1=0\n",
    "    cond2=0\n",
    "\n",
    "    for i in range(simulaciones):\n",
    "        #Lista para almacenar colores aleatorios\n",
    "        colores=[]\n",
    "\n",
    "        # Cogemos 5 bolas\n",
    "        for i in range(5):\n",
    "            colores.append(caja[np.random.randint(0,59)])\n",
    "\n",
    "        # Filtramos a través de un array\n",
    "        colores = np.array(colores)\n",
    "\n",
    "        ## Suma de bolas de cada color\n",
    "        blanco=sum(colores==\"Blanco\")\n",
    "        rojo=sum(colores==\"Rojo\")\n",
    "        verde=sum(colores==\"Verde\")\n",
    "        \n",
    "        # 3 blancas y 2 rojas\n",
    "        if (blanco==3) and (rojo==2):\n",
    "            cond1+=1\n",
    "\n",
    "        # todas del mismo color\n",
    "        if (blanco==5) or (rojo==5) or (verde==5):\n",
    "            cond2+=1\n",
    "    \n",
    "    return [cond1/simulaciones, cond2/simulaciones]\n",
    "\n",
    "n=1000\n",
    "print(f\"Tras {n} simulaciones, la proababilidad de obtener 3 bolas blancas y dos rojas es de un {round(probabilidades(n)[0]*100, 2)}%\")\n",
    "print(\"-\"*len(f\"Tras {n} simulaciones, la proababilidad de obtener 3 bolas blancas y dos rojas es de un {round(probabilidades(n)[0]*100, 2)}%\"))\n",
    "print(f\"Tras {n} simulaciones, la proababilidad de escoger todas las bolas del mismo color es de un {round(probabilidades(n)[1]*100, 2)}%\")"
   ]
  }
 ],
 "metadata": {
  "kernelspec": {
   "display_name": "Python 3",
   "language": "python",
   "name": "python3"
  },
  "language_info": {
   "codemirror_mode": {
    "name": "ipython",
    "version": 3
   },
   "file_extension": ".py",
   "mimetype": "text/x-python",
   "name": "python",
   "nbconvert_exporter": "python",
   "pygments_lexer": "ipython3",
   "version": "3.13.5"
  }
 },
 "nbformat": 4,
 "nbformat_minor": 5
}
